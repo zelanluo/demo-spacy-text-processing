{
 "cells": [
  {
   "cell_type": "code",
   "execution_count": null,
   "metadata": {},
   "outputs": [],
   "source": [
    "%matplotlib inline\n
    import matplotlib.pyplot as plt\n
    import numpy as np\n
     "\n",
    x=np.linspace(-10,10,100)\n
    y=x**3\n
     "\n",
    plt.plot(x,y,linestyle='--',color='b',marker='<')\n
     "\n",
    plt.show()"
   ]
  },
  {
   "cell_type": "code",
   "execution_count": null,
   "metadata": {},
   "outputs": [],
   "source": []
  }
 ],
 "metadata": {
  "kernelspec": {
   "display_name": "python绘图学堂-折线图",
   "language": "python",
   "name": "python绘图学堂-折线图"
  },
  "language_info": {
   "codemirror_mode": {
    "name": "ipython",
    "version": 3
   },
   "file_extension": ".py",
   "mimetype": "text/x-python",
   "name": "python",
   "nbconvert_exporter": "python",
   "pygments_lexer": "ipython3",
   "version": "3.6.4"
  }
 },
 "nbformat": 4,
 "nbformat_minor": 2
}
